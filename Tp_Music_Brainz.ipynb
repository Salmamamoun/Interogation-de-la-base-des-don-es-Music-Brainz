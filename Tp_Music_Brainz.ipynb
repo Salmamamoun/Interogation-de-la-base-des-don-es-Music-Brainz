{
 "cells": [
  {
   "cell_type": "markdown",
   "id": "b9fe64af-1d3c-4981-97d3-5ae871dbf1d5",
   "metadata": {},
   "source": [
    "# La Prépa 1A 2023-2024\n",
    "# Informatique\n",
    "# TPL\n",
    "#### MAMOUN Salma\n",
    "#### SONIER Clementine\n",
    "#### Groupe : C"
   ]
  },
  {
   "cell_type": "markdown",
   "id": "af99ac1a-ff6b-4499-bb3f-da48fd8bcc2e",
   "metadata": {},
   "source": [
    "## Partie 1 : Révisions et compléments de Python\n",
    "\n",
    "### Construction de chaînes à partir de listes"
   ]
  },
  {
   "cell_type": "code",
   "execution_count": 1,
   "id": "31635033-a119-4742-bcbe-874dff1fe67e",
   "metadata": {},
   "outputs": [],
   "source": [
    "couleurs = ['bleu', 'jaune', 'vert']\n",
    "\n",
    "def affiche_couleurs(tableau):\n",
    "    print('Les couleurs sont: ', end='')\n",
    "    for i, couleur in enumerate(tableau) :                  \n",
    "        if i != len(tableau)-1 :        # Boucle qui sert à afficher une virgule aprés chaque élément de la liste sauf le dernier\n",
    "            print(couleur, end=', ')\n",
    "        else:                                  \n",
    "            print(couleur, end='')\n",
    "    print('.')"
   ]
  },
  {
   "cell_type": "code",
   "execution_count": 2,
   "id": "ff5f65e7-794c-443a-b321-e931c76a665c",
   "metadata": {},
   "outputs": [
    {
     "name": "stdout",
     "output_type": "stream",
     "text": [
      "QUESTION 1 -- Affichage des couleurs :\n",
      "Les couleurs sont: bleu, jaune, vert.\n"
     ]
    }
   ],
   "source": [
    "print(\"QUESTION 1 -- Affichage des couleurs :\")\n",
    "affiche_couleurs(couleurs)"
   ]
  },
  {
   "cell_type": "code",
   "execution_count": 3,
   "id": "d5c50fc1-afb2-4c1a-9511-6a7ce34c418a",
   "metadata": {},
   "outputs": [
    {
     "name": "stdout",
     "output_type": "stream",
     "text": [
      "Tentative d'affectation non pertinente:\n",
      "Les couleurs sont: bleu, jaune, vert.\n",
      "L'affectation est faite, voici le résultat :\n",
      "None\n"
     ]
    }
   ],
   "source": [
    "print(\"Tentative d'affectation non pertinente:\")\n",
    "chaine = affiche_couleurs(couleurs)\n",
    "print(\"L'affectation est faite, voici le résultat :\")\n",
    "print(chaine)"
   ]
  },
  {
   "cell_type": "code",
   "execution_count": 4,
   "id": "b24566f8-7c55-4e1a-bb55-892669187d36",
   "metadata": {},
   "outputs": [
    {
     "name": "stdout",
     "output_type": "stream",
     "text": [
      "Les couleurs sont: bleu, bleu, vert.\n",
      "None\n",
      "Les couleurs sont: rouge, vert, bleu, jaune.\n",
      "None\n"
     ]
    }
   ],
   "source": [
    "# Autres tests\n",
    "couleurs2 = ['bleu', 'bleu', 'vert']\n",
    "print(affiche_couleurs(couleurs2))\n",
    "couleurs3 = ['rouge', 'vert', 'bleu', 'jaune']\n",
    "print(affiche_couleurs(couleurs3))"
   ]
  },
  {
   "cell_type": "code",
   "execution_count": 3,
   "id": "46a12771-33ac-42d9-bd3c-c8a36819b387",
   "metadata": {},
   "outputs": [
    {
     "name": "stdout",
     "output_type": "stream",
     "text": [
      "QUESTION 2 -- \n"
     ]
    }
   ],
   "source": [
    "print(\"QUESTION 2 -- \")\n",
    "def construit_chaine_couleurs(tableau):\n",
    "    resultat = 'Les couleurs sont : '\n",
    "    for i, couleur in enumerate(tableau) : \n",
    "         if i != len(tableau)-1 :\n",
    "            resultat += couleur + ', ' # Boucle qui sert à afficher une virgule aprés chaque élément de la liste sauf le dernier\n",
    "         else : \n",
    "            resultat += couleur + '.'\n",
    "    return resultat"
   ]
  },
  {
   "cell_type": "code",
   "execution_count": 4,
   "id": "20f82d29-6cbf-41e0-ab75-cd6ed441e135",
   "metadata": {},
   "outputs": [
    {
     "name": "stdout",
     "output_type": "stream",
     "text": [
      "Les couleurs sont : bleu, bleu, vert.\n",
      "Les couleurs sont : rouge, vert, bleu, jaune.\n"
     ]
    }
   ],
   "source": [
    "# Tests de construit_chaine_couleur\n",
    "couleurs2 = ['bleu', 'bleu', 'vert']\n",
    "print(construit_chaine_couleurs(couleurs2))\n",
    "couleurs3 = ['rouge', 'vert', 'bleu', 'jaune']\n",
    "print(construit_chaine_couleurs(couleurs3))"
   ]
  },
  {
   "cell_type": "markdown",
   "id": "1c2679c0-c346-47c3-8565-6521ab8e3e77",
   "metadata": {},
   "source": [
    "### Compléments sur Python : les tuples"
   ]
  },
  {
   "cell_type": "code",
   "execution_count": 5,
   "id": "e58fd91e",
   "metadata": {},
   "outputs": [
    {
     "name": "stdout",
     "output_type": "stream",
     "text": [
      "SECTION 1.2 -- La même chose avec des tuples :\n",
      "Les couleurs sont: bleu, jaune, vert.\n",
      "Les couleurs sont : bleu, jaune, vert.\n"
     ]
    }
   ],
   "source": [
    "print(\"SECTION 1.2 -- La même chose avec des tuples :\")\n",
    "couleurs_tuple = ('bleu', 'jaune', 'vert')\n",
    "affiche_couleurs(couleurs_tuple)\n",
    "print(construit_chaine_couleurs(couleurs_tuple))"
   ]
  },
  {
   "cell_type": "markdown",
   "id": "07006213-1c00-4ad6-9317-d960cf429963",
   "metadata": {},
   "source": [
    "### Listes de tuples"
   ]
  },
  {
   "cell_type": "code",
   "execution_count": 8,
   "id": "e1f0ef9e",
   "metadata": {},
   "outputs": [
    {
     "name": "stdout",
     "output_type": "stream",
     "text": [
      "contenu =  [('stylo', 'bleu', False), ('gomme', 'rouge', True), ('feutre', 'vert', False)]\n",
      "contenu[0] =  (stylo, bleu, False)\n",
      "contenu[1][2] =  True\n",
      "contenu[2][1][0] =  v\n"
     ]
    }
   ],
   "source": [
    "contenu = [\n",
    "    ('stylo', 'bleu', False),\n",
    "    ('gomme', 'rouge', True),\n",
    "    ('feutre', 'vert', False)\n",
    "]\n",
    "\n",
    "print('contenu = ', contenu)\n",
    "print('contenu[0] = ', '(stylo, bleu, False)') \n",
    "print('contenu[1][2] = ', 'True') \n",
    "print('contenu[2][1][0] = ', 'v')"
   ]
  },
  {
   "cell_type": "code",
   "execution_count": 9,
   "id": "6aa3517d-0e74-4c7d-bd75-3d4c5ce94eb1",
   "metadata": {},
   "outputs": [],
   "source": [
    "def description_trousse(contenu):\n",
    "    resultat = ''\n",
    "    for i, objet in enumerate(contenu) :  \n",
    "        if objet[2] : # Boucle parcourue si l'objet est féminin (càd si objet[2] = True ) \n",
    "            resultat += '- une ' + objet[0] + ' ' +  objet[1]  # Affiche l'article 'une' si l'élément est féminin\n",
    "        else :\n",
    "            resultat += '- un ' + objet[0] + ' ' + objet[1]   # Affiche l'article 'un' si l'élément est masculin\n",
    "        if i != len(contenu)-1 :\n",
    "            resultat = resultat + '\\n'\n",
    "    return 'Dans ma trousse, il y a : \\n' + resultat"
   ]
  },
  {
   "cell_type": "code",
   "execution_count": 10,
   "id": "72da9b89",
   "metadata": {},
   "outputs": [
    {
     "name": "stdout",
     "output_type": "stream",
     "text": [
      "Dans ma trousse, il y a : \n",
      "- un stylo bleu\n",
      "- une gomme rouge\n",
      "- un feutre vert\n"
     ]
    }
   ],
   "source": [
    "# Test\n",
    "print(description_trousse(contenu))"
   ]
  },
  {
   "cell_type": "markdown",
   "id": "d0239038-a33a-476a-bd4d-c158f81764fc",
   "metadata": {},
   "source": [
    "## Partie 2 : interaction avec la base de données MusicBrainz\n",
    "\n",
    "On commence par définir quelques cellules contenant le code \n",
    "pour utiliser la base de données."
   ]
  },
  {
   "cell_type": "code",
   "execution_count": 32,
   "id": "b6dd9483",
   "metadata": {},
   "outputs": [],
   "source": [
    "import sqlite3\n",
    "import os, sys\n",
    "\n",
    "connection = None\n",
    "dbfile = \"musicbrainz-FR.db\""
   ]
  },
  {
   "cell_type": "code",
   "execution_count": 33,
   "id": "1baa39e9",
   "metadata": {},
   "outputs": [],
   "source": [
    "def set_connection(fn):\n",
    "    def wrapped(dbfile, *args, **kwargs):\n",
    "        global connection\n",
    "        if not connection:\n",
    "            init_connection(dbfile)\n",
    "        return fn(connection, *args, **kwargs)\n",
    "    return wrapped\n"
   ]
  },
  {
   "cell_type": "code",
   "execution_count": 34,
   "id": "8a678fc6",
   "metadata": {},
   "outputs": [],
   "source": [
    "OOM_HINT = (\"Vérifiez que vous n'avez pas oublié une condition dans une jointure.\\n\"\n",
    "            \"Si le problème persite, essayez de relancer l'exécuteur de requêtes.\\n\")\n"
   ]
  },
  {
   "cell_type": "code",
   "execution_count": 35,
   "id": "84341314",
   "metadata": {},
   "outputs": [],
   "source": [
    "#########################################################\n",
    "# Cette fonction exécute sur la base\n",
    "# la requête passée en paramètre\n",
    "#########################################################\n",
    "@set_connection\n",
    "def execute_query(connection, query):\n",
    "    try:\n",
    "        # On récupère un objet curseur qui permet de parcourir \n",
    "        # l'ensemble résultat à la manière d'un itérateur.\n",
    "        cursor = connection.cursor()\n",
    "\n",
    "        # On exécute la requête ici.\n",
    "        cursor.execute(query)\n",
    "\n",
    "        # Après exécution de la requête, on récupère la réponse \n",
    "        # du SGBD et on renvoie le tout.\n",
    "        return cursor.fetchall()\n",
    "    except MemoryError:\n",
    "        # Tester avec par exemple \n",
    "        # SELECT a1.* FROM Artistes AS a1, Artistes AS a2;\n",
    "        print(\"Pas assez de mémoire pour exécuter la requête SQL.\\n\" + OOM_HINT)\n",
    "        raise\n",
    "    except sqlite3.Error as e:\n",
    "        if len(e.args) > 0:\n",
    "            msg = e.args[0]\n",
    "        else:\n",
    "            # Il arrive qu'on obtienne sqlite3.OperationalError sur un\n",
    "            # \"out of memory\", et quand c'est le cas, e.args est un\n",
    "            # tableau vide donc le e.args[0] lancerait une exception\n",
    "            # dans le traitant d'exception :-(. On devine le diagnostique.\n",
    "            msg = (\"Erreur pendant l'exécution de la requête.\\n\" +\n",
    "                   \"Cette erreur peut se produire s'il n'y a pas \" + \n",
    "                   \"assez de mémoire.\\n\" + OOM_HINT)\n",
    "        print(msg)\n",
    "        raise"
   ]
  },
  {
   "cell_type": "code",
   "execution_count": 36,
   "id": "f90fcde4",
   "metadata": {},
   "outputs": [],
   "source": [
    "#########################################################\n",
    "# Cette fonction initialise la connexion à la base\n",
    "#########################################################\n",
    "def init_connection(dbfile):\n",
    "    global connection\n",
    "\n",
    "    if not os.path.isfile(dbfile):\n",
    "        print(\"Impossible d'ouvrir la base de données %s:\\n\"\n",
    "              \"le fichier n'existe pas.\" %\n",
    "              dbfile)\n",
    "        sys.exit(1)\n",
    "\n",
    "    try:\n",
    "        connection = sqlite3.connect(dbfile)\n",
    "\n",
    "    except sqlite3.Error as e:\n",
    "        print(\"Database connexion error - %s:\" % e.args[0])\n",
    "        close_connection()\n"
   ]
  },
  {
   "cell_type": "code",
   "execution_count": 37,
   "id": "26f8eab4",
   "metadata": {},
   "outputs": [],
   "source": [
    "#########################################################\n",
    "# Cette fonction ferme la connexion à la base\n",
    "#########################################################\n",
    "def close_connection():\n",
    "    global connection\n",
    "\n",
    "    if connection:\n",
    "        connection.close()\n",
    "        connection = None\n"
   ]
  },
  {
   "cell_type": "code",
   "execution_count": 38,
   "id": "2557f77b",
   "metadata": {
    "scrolled": true
   },
   "outputs": [
    {
     "data": {
      "text/plain": [
       "[('En concert',),\n",
       " ('Suppléments de mensonge',),\n",
       " ('Paris-Zénith',),\n",
       " ('Le Bonheur de la tentation',),\n",
       " ('Chroniques bluesymentales',),\n",
       " ('Scandale mélancolique Tour',),\n",
       " ('Guichet 102',),\n",
       " ('Alambic/Sortie-Sud',),\n",
       " ('1978-1983',),\n",
       " ('Live au Bataclan',),\n",
       " ('Météo für Nada',),\n",
       " (\"De l'amour, de l'art ou du cochon ?\",),\n",
       " ('Le Touquet juillet 1925',),\n",
       " ('Homo Plebis Ultimae Tour',),\n",
       " ('Thiéfaine 84.88 : Enregistrements Originaux',),\n",
       " ('En concert à Bercy',),\n",
       " ('Routes 88',),\n",
       " (\"…tout corps vivant branché sur le secteur étant appelé à s'émouvoir…\",),\n",
       " ('En concert, Volume 2',),\n",
       " ('Autorisation de délirer',),\n",
       " ('78-98',),\n",
       " ('Défloration 13',),\n",
       " ('Scandale mélancolique',),\n",
       " (\"Fragments d'hébétude\",),\n",
       " ('La Tentation du bonheur',),\n",
       " ('Séquelles',),\n",
       " ('Soleil cherche futur',),\n",
       " ('Dernières balises (avant mutation)',)]"
      ]
     },
     "execution_count": 38,
     "metadata": {},
     "output_type": "execute_result"
    }
   ],
   "source": [
    "# Un test pour voir si tout fonctionne : la première requête du TP\n",
    "execute_query(dbfile, \n",
    "                \"SELECT DISTINCT nomDisque \" + \n",
    "                \"FROM Disques WHERE idArtiste = 22164;\")"
   ]
  },
  {
   "cell_type": "code",
   "execution_count": 41,
   "id": "df261d61-7521-49bb-a6d6-c332fe58645e",
   "metadata": {},
   "outputs": [],
   "source": [
    "# QUESTION 5\n",
    "#def get_matching_artists(pattern):\n",
    "    #query = \"SELECT DISTINCT idArtiste, nomArtiste \" + \"FROM Artistes WHERE nomArtiste LIKE '%\" +pattern+ \"%';\"\n",
    "    #resultat0 = execute_query(dbfile, query)\n",
    "    #resultat_ordonnee = sorted(resultat0, key=lambda x: x[1]) # trie des nomArtiste par ordre alphapétique\n",
    "    #return resultat_ordonnee "
   ]
  },
  {
   "cell_type": "code",
   "execution_count": null,
   "id": "0ef866b6-edf5-4bd9-a927-b6fad74da1f4",
   "metadata": {},
   "outputs": [],
   "source": [
    "## Remarque ## Bof c'était pas nécéssair !!\n",
    "# On pouvait pas séléctionner et ordonner dans la même requête un prob de la sorte \"You can only execute one statement at a time\"\n",
    "# Pour le résoudre on a décomposé notre code et on a utiliser la fct 'sorted' qui sert au trie des éléments d'une liste\n",
    "# Le 'key=lambda x: x[1]' indique à python de trier le 2ème élément de chaque tuple (qui correspend bien au nom d'artiste)"
   ]
  },
  {
   "cell_type": "code",
   "execution_count": 49,
   "id": "4df8d4ca-45f8-41fc-84b6-d2da1d98cb40",
   "metadata": {},
   "outputs": [],
   "source": [
    "def get_matching_artists(pattern):\n",
    "    # Requête SQL qui cherche les identifiants d’artistes et noms d’artistes dont le nom contient le paramètre\n",
    "    query = \"SELECT DISTINCT idArtiste, nomArtiste \" + \"FROM Artistes WHERE nomArtiste LIKE '%\" +pattern+ \"%'ORDER BY nomArtiste\"\n",
    "    return execute_query(dbfile, query)"
   ]
  },
  {
   "cell_type": "code",
   "execution_count": 50,
   "id": "830db233-3f26-4f2f-9478-d4c20391d661",
   "metadata": {},
   "outputs": [
    {
     "name": "stdout",
     "output_type": "stream",
     "text": [
      "[(619093, 'Lhacene 357 python'), (58603, 'Python Lee Jackson'), (331160, 'Spittin Python')]\n"
     ]
    }
   ],
   "source": [
    "# Test\n",
    "print(get_matching_artists(\"Python\"))"
   ]
  },
  {
   "cell_type": "code",
   "execution_count": 51,
   "id": "3fcbb3bf-aa29-43aa-85c1-dcdbd526f7fb",
   "metadata": {},
   "outputs": [],
   "source": [
    "# QUESTION 6\n",
    "def test_get_matching_artists():\n",
    "    nomArtiste = str(input(\"Nous cherchons:\")) #utilisation du 'input' pour demander à l'utilisateur de rentrer ce qu'il cherche\n",
    "    print (get_matching_artists(nomArtiste))"
   ]
  },
  {
   "cell_type": "code",
   "execution_count": 52,
   "id": "96dfc1e3",
   "metadata": {},
   "outputs": [
    {
     "name": "stdin",
     "output_type": "stream",
     "text": [
      "Nous cherchons: Dalida\n"
     ]
    },
    {
     "name": "stdout",
     "output_type": "stream",
     "text": [
      "[(2011, 'Dalida'), (1287616, 'Dalida'), (805768, 'Dalida & Alain Delon')]\n"
     ]
    }
   ],
   "source": [
    "# Test\n",
    "test_get_matching_artists()"
   ]
  },
  {
   "cell_type": "code",
   "execution_count": 53,
   "id": "ea2a49a4-e918-4936-b52a-d8a74b95cef5",
   "metadata": {},
   "outputs": [],
   "source": [
    "# QUESTION 7\n",
    "def get_releases_by_artist(id_artiste):\n",
    "    id_artiste = str(id_artiste) #création d'une chaine de caractères\n",
    "    return execute_query(dbfile, \n",
    "            \"SELECT DISTINCT nomDisque \" + \"FROM Disques WHERE idArtiste= \"+id_artiste+ \";\") \n",
    "# Requête SQL qui cherche le nom du disque avec le paramètre idArtiste"
   ]
  },
  {
   "cell_type": "code",
   "execution_count": 54,
   "id": "f183f33a",
   "metadata": {},
   "outputs": [
    {
     "name": "stdout",
     "output_type": "stream",
     "text": [
      "[(\"Le visage de l'amour\",), ('Le temps des fleurs',), ('Les Années Orlando, Volume 9: Mourir sur scène',), ('Les Années Orlando, Volume 8: Fini, la comédie',), (\"Les Années Orlando, Volume 1: La Rose que j'aimais\",), ('Fini, La Comédie / Marjolaine',), ('Gondolier',), ('Les 50 Plus Belles Chansons',), (\"Live : Instants d'émotions...\",), ('Les Années Orlando, Volume 5: Bésame mucho',), (\"L'An 2005\",), ('Révolution',), ('Les Années Orlando, Volume 11: Pour en arriver là',), ('La Tumba',), (\"Les Années Orlando, Volume 4: J'attendrai\",), (\"Les Années Orlando, Volume 3: Des gens qu'on aimerait connaître\",), (\"Les Années Orlando, Volume 10: Pour te dire je t'aime\",), (\"Je t'appelle encore\",), ('Le Rêve oriental',), ('Talents, Volume 2',), ('The Glamourous Dalida',), ('Les Années Orlando',), ('Sus más grandes éxitos en español',), (\"Paroles d'amour\",), (\"Paroles d'ailleurs\",), ('Les Années Orlando, Volume 7: Laissez-moi danser',), ('Les Années Orlando, Volume 2: Une vie',), ('Dalida chante les grands auteurs',), (\"Les Années Barclay : L'Essentiel 1956-1970\",), ('Succès en or',), (\"15 ans déjà... Dalida : L'Original\",), ('Paroles qui dansent',), ('40 succès en or',), ('Master Serie',), ('Les Années disco',), ('Dalida chante le 7ème Art',), (\"Comme si j'étais là\",), ('Julien',), ('La Tumba / Gigi in Paradisco',), ('Gigi in Paradisco / La Tumba',), ('Salma ya salama / La Tumba',), ('La Danse de Zorba',), (\"Ballades et mots d'amour\",), ('Les Gitans',), ('Les Années Orlando, Volume 12: Escales autour du monde',), ('Les années Barclay - Mademoiselle Bambino',), ('À ma manière...',), ('Les Années Orlando, Volume 6: Salma ya salma',), ('Chaque instant de chaque jour',), ('Les Années Barclay',)]\n"
     ]
    }
   ],
   "source": [
    "# Test\n",
    "print(get_releases_by_artist(2011))"
   ]
  },
  {
   "cell_type": "code",
   "execution_count": 55,
   "id": "44bb7744-3ce8-4cab-9189-053aadbc88c5",
   "metadata": {},
   "outputs": [
    {
     "name": "stdout",
     "output_type": "stream",
     "text": [
      "1  Indochine\n",
      "2  Bernard Lavillier\n",
      "3  Le Sud\n",
      "\n"
     ]
    }
   ],
   "source": [
    "def main0(liste) : # Fonction qui sert à énumerer les éléments d'une liste\n",
    "    artistes_2 = ''\n",
    "    for i in range(len(liste)):\n",
    "        artistes_2 += f'{i+1}  {liste[i]}\\n'\n",
    "    return artistes_2           \n",
    "# Petit test\n",
    "d = ['Indochine', 'Bernard Lavillier', 'Le Sud']\n",
    "print(main0(d))"
   ]
  },
  {
   "cell_type": "code",
   "execution_count": 71,
   "id": "3f0cc858-31c4-4492-8984-e11c5a56cfe5",
   "metadata": {},
   "outputs": [],
   "source": [
    "def main1() :\n",
    "    a = str(input('Quel artiste vous intéresse ?')) \n",
    "    artistes = get_matching_artists(a) # Liste des artistes avec leurs id qui correspondent au nom entré\n",
    "    while not artistes : # la boucle est parcouru tant que la liste artistes est non vide\n",
    "        a = str(input(\"Entrez le nom d'un autre artiste s'il vous plaît! \"))\n",
    "        artistes = get_matching_artists(a)\n",
    "    resultat1 = '>' + a\n",
    "    resultat2 = str( len(artistes)) + ' artiste(s) trouvé(s)...'\n",
    "    print(resultat1)\n",
    "    print(resultat2)\n",
    "    print(main0(artistes))\n",
    "    \n",
    "    b = int(input(f\"Parmi cette liste d’artistes, lequel vous convient (donnez le numéro entre 1 et {len(artistes)}) ?\")) \n",
    "    c = artistes[b-1][0] # selectione id de l'artiste choisi\n",
    "    disques = get_releases_by_artist(c)\n",
    "    resultat3 = '>' + str(b)\n",
    "    resultat4 = str( len(disques)) + ' disques(s) trouvé(s)...'\n",
    "    print(resultat3)\n",
    "    print(resultat4)\n",
    "    print(main0(disques)) "
   ]
  },
  {
   "cell_type": "code",
   "execution_count": 72,
   "id": "9006ec2f-8a3e-4550-b49f-200306a05697",
   "metadata": {
    "scrolled": true
   },
   "outputs": [
    {
     "name": "stdin",
     "output_type": "stream",
     "text": [
      "Quel artiste vous intéresse ? Dalida\n"
     ]
    },
    {
     "name": "stdout",
     "output_type": "stream",
     "text": [
      ">Dalida\n",
      "3 artiste(s) trouvé(s)...\n",
      "1  (2011, 'Dalida')\n",
      "2  (1287616, 'Dalida')\n",
      "3  (805768, 'Dalida & Alain Delon')\n",
      "\n"
     ]
    },
    {
     "name": "stdin",
     "output_type": "stream",
     "text": [
      "Parmi cette liste d’artistes, lequel vous convient (donnez le numéro entre 1 et 3) ? 1\n"
     ]
    },
    {
     "name": "stdout",
     "output_type": "stream",
     "text": [
      ">1\n",
      "50 disques(s) trouvé(s)...\n",
      "1  (\"Le visage de l'amour\",)\n",
      "2  ('Le temps des fleurs',)\n",
      "3  ('Les Années Orlando, Volume 9: Mourir sur scène',)\n",
      "4  ('Les Années Orlando, Volume 8: Fini, la comédie',)\n",
      "5  (\"Les Années Orlando, Volume 1: La Rose que j'aimais\",)\n",
      "6  ('Fini, La Comédie / Marjolaine',)\n",
      "7  ('Gondolier',)\n",
      "8  ('Les 50 Plus Belles Chansons',)\n",
      "9  (\"Live : Instants d'émotions...\",)\n",
      "10  ('Les Années Orlando, Volume 5: Bésame mucho',)\n",
      "11  (\"L'An 2005\",)\n",
      "12  ('Révolution',)\n",
      "13  ('Les Années Orlando, Volume 11: Pour en arriver là',)\n",
      "14  ('La Tumba',)\n",
      "15  (\"Les Années Orlando, Volume 4: J'attendrai\",)\n",
      "16  (\"Les Années Orlando, Volume 3: Des gens qu'on aimerait connaître\",)\n",
      "17  (\"Les Années Orlando, Volume 10: Pour te dire je t'aime\",)\n",
      "18  (\"Je t'appelle encore\",)\n",
      "19  ('Le Rêve oriental',)\n",
      "20  ('Talents, Volume 2',)\n",
      "21  ('The Glamourous Dalida',)\n",
      "22  ('Les Années Orlando',)\n",
      "23  ('Sus más grandes éxitos en español',)\n",
      "24  (\"Paroles d'amour\",)\n",
      "25  (\"Paroles d'ailleurs\",)\n",
      "26  ('Les Années Orlando, Volume 7: Laissez-moi danser',)\n",
      "27  ('Les Années Orlando, Volume 2: Une vie',)\n",
      "28  ('Dalida chante les grands auteurs',)\n",
      "29  (\"Les Années Barclay : L'Essentiel 1956-1970\",)\n",
      "30  ('Succès en or',)\n",
      "31  (\"15 ans déjà... Dalida : L'Original\",)\n",
      "32  ('Paroles qui dansent',)\n",
      "33  ('40 succès en or',)\n",
      "34  ('Master Serie',)\n",
      "35  ('Les Années disco',)\n",
      "36  ('Dalida chante le 7ème Art',)\n",
      "37  (\"Comme si j'étais là\",)\n",
      "38  ('Julien',)\n",
      "39  ('La Tumba / Gigi in Paradisco',)\n",
      "40  ('Gigi in Paradisco / La Tumba',)\n",
      "41  ('Salma ya salama / La Tumba',)\n",
      "42  ('La Danse de Zorba',)\n",
      "43  (\"Ballades et mots d'amour\",)\n",
      "44  ('Les Gitans',)\n",
      "45  ('Les Années Orlando, Volume 12: Escales autour du monde',)\n",
      "46  ('Les années Barclay - Mademoiselle Bambino',)\n",
      "47  ('À ma manière...',)\n",
      "48  ('Les Années Orlando, Volume 6: Salma ya salma',)\n",
      "49  ('Chaque instant de chaque jour',)\n",
      "50  ('Les Années Barclay',)\n",
      "\n"
     ]
    }
   ],
   "source": [
    "# Test\n",
    "main1()"
   ]
  },
  {
   "cell_type": "markdown",
   "id": "7636c931-7ffd-477b-9021-999886dea0e5",
   "metadata": {},
   "source": [
    "### MusicBrainz Fights"
   ]
  },
  {
   "cell_type": "code",
   "execution_count": 61,
   "id": "5e2040e9-6091-444a-8887-168fbf442d4e",
   "metadata": {},
   "outputs": [],
   "source": [
    "# QUESTION 9\n",
    "def rank_artists(idArtisteListe):\n",
    "    id_str = ', '.join(str(id) for id in idArtisteListe)\n",
    "    query = f\"\"\"\n",
    "        SELECT nomArtiste , COUNT(DISTINCT idMorceau)  AS count_records\n",
    "        FROM Artistes\n",
    "        JOIN Morceaux ON Morceaux.idArtiste = Artistes.idArtiste\n",
    "        WHERE Artistes.idArtiste IN ({id_str}) \n",
    "        GROUP BY nomArtiste\n",
    "        ORDER BY count_records DESC\n",
    "    \"\"\"\n",
    "    resultat = execute_query(dbfile, query)\n",
    "    return resultat"
   ]
  },
  {
   "cell_type": "code",
   "execution_count": 62,
   "id": "cb40c412-44d8-48fe-9274-7c446ba922e5",
   "metadata": {},
   "outputs": [
    {
     "name": "stdout",
     "output_type": "stream",
     "text": [
      "[('Jacques Brel', 425), ('Stromae', 17)]\n"
     ]
    }
   ],
   "source": [
    "print(rank_artists([1128, 685411]))"
   ]
  },
  {
   "cell_type": "code",
   "execution_count": 94,
   "id": "4403fcfc-c6ea-4b79-9765-2bb5c4ce1769",
   "metadata": {},
   "outputs": [],
   "source": [
    "def main2() :\n",
    "    n = int(input(\"Entrez le nombre d'artistes que vous voulez comparez\"))\n",
    "    idArtisteListe = []\n",
    "    for i in range(n) :\n",
    "        nomArtiste = input(\"Entrez le nom d'un artiste : \")\n",
    "        artiste = get_matching_artists(nomArtiste)\n",
    "        if artiste:\n",
    "            print(artiste)\n",
    "            resultat_recherche = int(input(f\"Parmi cette liste, lequel vous intéresse (donnez le numéro entre 0 et {len(artiste)-1})\"))\n",
    "            # 0 correspend au 1er element affiché , 1  au 2ème , ...\n",
    "        idArtisteListe.append(artiste[resultat_recherche-1][0])\n",
    "    \n",
    "    if idArtisteListe:\n",
    "        resultat = rank_artists(idArtisteListe)\n",
    "        print(\"Résultats de la comparaison :\")\n",
    "        for i,artist in enumerate(resultat) :\n",
    "                artiste = artist[0]\n",
    "                count = artist[1]\n",
    "                print(f\"{artiste}: {count} enregistrements\")  "
   ]
  },
  {
   "cell_type": "code",
   "execution_count": 95,
   "id": "0ffc8fe3-8496-41ed-bc61-4edaa2873a13",
   "metadata": {},
   "outputs": [],
   "source": [
    "# Le code ne traite pas le cas ou il n ya pas de correspandants du nom entré\n",
    "# De plus il affiche des truc qu'on a pas besoin qu'ils soient affichés "
   ]
  },
  {
   "cell_type": "code",
   "execution_count": 96,
   "id": "d5811865-1c0b-4a1a-ae7e-9b9927e3830d",
   "metadata": {},
   "outputs": [
    {
     "name": "stdin",
     "output_type": "stream",
     "text": [
      "Entrez le nombre d'artistes que vous voulez comparez 2\n",
      "Entrez le nom d'un artiste :  Dalida\n"
     ]
    },
    {
     "name": "stdout",
     "output_type": "stream",
     "text": [
      "[(2011, 'Dalida'), (1287616, 'Dalida'), (805768, 'Dalida & Alain Delon')]\n"
     ]
    },
    {
     "name": "stdin",
     "output_type": "stream",
     "text": [
      "Parmi cette liste, lequel vous intéresse (donnez le numéro entre 0 et 2) 0\n",
      "Entrez le nom d'un artiste :  Dalida\n"
     ]
    },
    {
     "name": "stdout",
     "output_type": "stream",
     "text": [
      "[(2011, 'Dalida'), (1287616, 'Dalida'), (805768, 'Dalida & Alain Delon')]\n"
     ]
    },
    {
     "name": "stdin",
     "output_type": "stream",
     "text": [
      "Parmi cette liste, lequel vous intéresse (donnez le numéro entre 0 et 2) 2\n"
     ]
    },
    {
     "name": "stdout",
     "output_type": "stream",
     "text": [
      "Résultats de la comparaison :\n",
      "Dalida: 2 enregistrements\n",
      "Dalida & Alain Delon: 1 enregistrements\n"
     ]
    }
   ],
   "source": [
    "# Test\n",
    "main2()"
   ]
  },
  {
   "cell_type": "markdown",
   "id": "b9e62c18-8450-4e5b-96df-cb705baadc69",
   "metadata": {},
   "source": [
    "### Bilan"
   ]
  },
  {
   "cell_type": "markdown",
   "id": "b40f21aa-25fa-4b18-a098-8f0730be26b8",
   "metadata": {},
   "source": []
  },
  {
   "cell_type": "markdown",
   "id": "3becda64-fda6-49d7-81f7-8aa2e0ca8134",
   "metadata": {},
   "source": []
  }
 ],
 "metadata": {
  "kernelspec": {
   "display_name": "Python 3 (ipykernel)",
   "language": "python",
   "name": "python3"
  },
  "language_info": {
   "codemirror_mode": {
    "name": "ipython",
    "version": 3
   },
   "file_extension": ".py",
   "mimetype": "text/x-python",
   "name": "python",
   "nbconvert_exporter": "python",
   "pygments_lexer": "ipython3",
   "version": "3.11.7"
  }
 },
 "nbformat": 4,
 "nbformat_minor": 5
}
